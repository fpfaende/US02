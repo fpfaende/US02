{
 "cells": [
  {
   "cell_type": "code",
   "execution_count": 3,
   "metadata": {},
   "outputs": [],
   "source": [
    "import networkx as nx"
   ]
  },
  {
   "cell_type": "code",
   "execution_count": 17,
   "metadata": {},
   "outputs": [
    {
     "data": {
      "image/png": "[encoded data removed]",
      "text/plain": [
       "<Figure size 432x288 with 1 Axes>"
      ]
     },
     "metadata": {
      "needs_background": "light"
     },
     "output_type": "display_data"
    }
   ],
   "source": [
    "G = nx.DiGraph()\n",
    "\n",
    "# the nodes\n",
    "G.add_node('x0')\n",
    "G.add_node('x1')\n",
    "G.add_node('x2')\n",
    "G.add_node('x3')\n",
    "G.add_node('x4')\n",
    "G.add_node('x5')\n",
    "G.add_node('x6')\n",
    "G.add_node('x7')\n",
    "G.add_node('x8')\n",
    "\n",
    "# add edges from x0\n",
    "G.add_edge('x0','x1',weight=20)\n",
    "G.add_edge('x0','x2',weight=1)\n",
    "G.add_edge('x0','x3',weight=10)\n",
    "\n",
    "# add edges from x1\n",
    "G.add_edge('x1','x3',weight=1)\n",
    "G.add_edge('x1','x8',weight=0)\n",
    "\n",
    "# add edges from x2\n",
    "G.add_edge('x2','x3',weight=2)\n",
    "G.add_edge('x2','x4',weight=4)\n",
    "\n",
    "# add edges from x3\n",
    "G.add_edge('x3','x5',weight=4)\n",
    "\n",
    "# add edges from x4\n",
    "G.add_edge('x4','x6',weight=6)\n",
    "\n",
    "# add edges from x5\n",
    "G.add_edge('x5','x4',weight=0)\n",
    "G.add_edge('x5','x7',weight=10)\n",
    "\n",
    "# add edges from x6\n",
    "G.add_edge('x6','x7',weight=2)\n",
    "\n",
    "# add edges from x7\n",
    "G.add_edge('x7','x1',weight=6)\n",
    "G.add_edge('x7','x8',weight=4)\n",
    "\n",
    "nx.draw_networkx(G)"
   ]
  },
  {
   "cell_type": "code",
   "execution_count": 26,
   "metadata": {},
   "outputs": [
    {
     "data": {
      "text/plain": [
       "AtlasView({'x5': {'weight': 4}})"
      ]
     },
     "execution_count": 26,
     "metadata": {},
     "output_type": "execute_result"
    }
   ],
   "source": [
    "G['x3']"
   ]
  },
  {
   "cell_type": "code",
   "execution_count": 18,
   "metadata": {},
   "outputs": [
    {
     "data": {
      "text/plain": [
       "{'x0': ['x0'],\n",
       " 'x1': ['x0', 'x2', 'x4', 'x6', 'x7', 'x1'],\n",
       " 'x2': ['x0', 'x2'],\n",
       " 'x3': ['x0', 'x2', 'x3'],\n",
       " 'x4': ['x0', 'x2', 'x4'],\n",
       " 'x5': ['x0', 'x2', 'x3', 'x5'],\n",
       " 'x6': ['x0', 'x2', 'x4', 'x6'],\n",
       " 'x7': ['x0', 'x2', 'x4', 'x6', 'x7'],\n",
       " 'x8': ['x0', 'x2', 'x4', 'x6', 'x7', 'x8']}"
      ]
     },
     "execution_count": 18,
     "metadata": {},
     "output_type": "execute_result"
    }
   ],
   "source": [
    "path = nx.single_source_dijkstra_path(G,'x0')\n",
    "path"
   ]
  },
  {
   "cell_type": "code",
   "execution_count": 23,
   "metadata": {},
   "outputs": [
    {
     "data": {
      "text/plain": [
       "{'x0': 0,\n",
       " 'x2': 1,\n",
       " 'x3': 3,\n",
       " 'x4': 5,\n",
       " 'x5': 7,\n",
       " 'x6': 11,\n",
       " 'x7': 13,\n",
       " 'x8': 17,\n",
       " 'x1': 19}"
      ]
     },
     "execution_count": 23,
     "metadata": {},
     "output_type": "execute_result"
    }
   ],
   "source": [
    "pathLength = nx.single_source_dijkstra_path_length(G,'x0')\n",
    "pathLength"
   ]
  },
  {
   "cell_type": "code",
   "execution_count": 28,
   "metadata": {},
   "outputs": [
    {
     "data": {
      "text/plain": [
       "{'x0': 0.0,\n",
       " 'x1': 0.19642857142857142,\n",
       " 'x2': 0.03571428571428571,\n",
       " 'x3': 0.2589285714285714,\n",
       " 'x4': 0.13392857142857142,\n",
       " 'x5': 0.24107142857142855,\n",
       " 'x6': 0.11607142857142856,\n",
       " 'x7': 0.2857142857142857,\n",
       " 'x8': 0.0}"
      ]
     },
     "execution_count": 28,
     "metadata": {},
     "output_type": "execute_result"
    }
   ],
   "source": [
    "nx.betweenness_centrality(G)"
   ]
  },
  {
   "cell_type": "code",
   "execution_count": 25,
   "metadata": {},
   "outputs": [],
   "source": [
    "nx.write_gexf(G,path='/Users/fabien/Desktop/ro01.gexf')"
   ]
  }
 ],
 "metadata": {
  "kernelspec": {
   "display_name": "Python 3",
   "language": "python",
   "name": "python3"
  },
  "language_info": {
   "codemirror_mode": {
    "name": "ipython",
    "version": 3
   },
   "file_extension": ".py",
   "mimetype": "text/x-python",
   "name": "python",
   "nbconvert_exporter": "python",
   "pygments_lexer": "ipython3",
   "version": "3.7.3"
  }
 },
 "nbformat": 4,
 "nbformat_minor": 2
}

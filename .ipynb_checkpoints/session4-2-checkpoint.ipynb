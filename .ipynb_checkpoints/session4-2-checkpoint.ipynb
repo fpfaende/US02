{
 "cells": [
  {
   "cell_type": "code",
   "execution_count": 1,
   "metadata": {},
   "outputs": [],
   "source": [
    "import spacy\n",
    "import re\n",
    "import en_core_web_sm\n",
    "import en_core_web_lg\n",
    "import math"
   ]
  },
  {
   "cell_type": "code",
   "execution_count": 2,
   "metadata": {},
   "outputs": [],
   "source": [
    "nlp_sm = en_core_web_sm.load()\n",
    "nlp_sm.max_length = 2500000\n",
    "\n",
    "nlp_lg = en_core_web_lg.load()\n",
    "nlp_lg.max_length = 2500000"
   ]
  },
  {
   "cell_type": "code",
   "execution_count": 8,
   "metadata": {},
   "outputs": [
    {
     "name": "stdout",
     "output_type": "stream",
     "text": [
      "Apple Apple\n",
      "be is\n",
      "look looking\n",
      "at at\n",
      "buy buying\n",
      "U.K. U.K.\n",
      "startup startup\n",
      "for for\n",
      "$ $\n",
      "1 1\n",
      "billion billion\n",
      ". .\n",
      "Bran Bran\n",
      "Stark Stark\n",
      "be is\n",
      "a a\n",
      "boy boy\n",
      ". .\n",
      "Apple 0 5 ORG\n",
      "U.K. 27 31 GPE\n",
      "$1 billion 44 54 MONEY\n",
      "Stark 61 66 PERSON\n"
     ]
    }
   ],
   "source": [
    "doc = nlp_sm(u\"Apple is looking at buying U.K. startup for $1 billion. Bran Stark is a boy.\")\n",
    "for token in doc:\n",
    "   print(token.lemma_, token.text) \n",
    "for ent in doc.ents:\n",
    "    print(ent.text, ent.start_char, ent.end_char, ent.label_)"
   ]
  },
  {
   "cell_type": "code",
   "execution_count": 22,
   "metadata": {},
   "outputs": [],
   "source": [
    "def union_entities(listA, listB):\n",
    "    result = listA\n",
    "    for ent_b,y1,y2 in listB:\n",
    "        overlap = False\n",
    "        for ent_a,x1,x2 in listA:\n",
    "            if x1 <= y2 and y1 <= x2: # overlap\n",
    "                overlap = True\n",
    "                if (y2-y1) > (x2-x2): # the largest entity is B\n",
    "                    result.remove((ent_a,x1,x2))\n",
    "                    result.append((ent_b,y1,y2))\n",
    "                break\n",
    "        if not overlap:\n",
    "            result.append((ent_b,y1,y2))\n",
    "    return result\n",
    "\n",
    "\n",
    "def process_chapter(chapter):\n",
    "    doc1 = nlp_sm(chapter)\n",
    "    doc2 = nlp_lg(chapter)\n",
    "    sm = []\n",
    "    lg = []\n",
    "    for ent in doc1.ents:\n",
    "        if ent.label_ == 'PERSON':\n",
    "            sm.append((ent.text, ent.start_char, ent.end_char))\n",
    "    for ent in doc2.ents:\n",
    "        if ent.label_ == 'PERSON':\n",
    "            lg.append((ent.text, ent.start_char, ent.end_char))\n",
    "\n",
    "    return union_entities(sm,lg)\n",
    "\n",
    "\n",
    "def process_book(head, tail, book_number):\n",
    "    filename = head + str(book_number) + tail\n",
    "    with open(filename) as fp:\n",
    "        book = fp.read()\n",
    "    regex = r\"\\n{1,}([A-Z\\s]+)\\n{2,}\"\n",
    "    chunks = re.split(regex,book)\n",
    "    \n",
    "    entities = {}\n",
    "    for index, chunk in enumerate(chunks):\n",
    "        if chunk.isupper():\n",
    "            #print(chunk.strip().title(),chunks[index+1][:100].strip())\n",
    "            title = str(book_number) + '–' + str(math.floor(index/2)) + '-' + chunk.strip().title()\n",
    "            chapter = chunks[index+1].strip().replace('\\t','').replace('\"','').replace('\\n',' ').replace(' . . .','...')\n",
    "            entities[title] = process_chapter(chapter)\n",
    "    return entities\n",
    "\n",
    "def process_book_for_stats(head, tail, book_number):\n",
    "    paragraphs = []\n",
    "    sentences = []\n",
    "    \n",
    "    filename = head + str(book_number) + tail\n",
    "    with open(filename) as fp:\n",
    "        book = fp.read()\n",
    "    regex = r\"\\n{1,}([A-Z\\s]+)\\n{2,}\"\n",
    "    chunks = re.split(regex,book)\n",
    "    for chunk in chunks:\n",
    "        if not chunk.isupper():\n",
    "            paragraphs += [len(l) for l in chunk.split('\\n')]\n",
    "            sentences += [len(l) for l in chunk.split('.')]\n",
    "    return paragraphs,sentences"
   ]
  },
  {
   "cell_type": "code",
   "execution_count": 5,
   "metadata": {},
   "outputs": [
    {
     "name": "stdout",
     "output_type": "stream",
     "text": [
      "book 1 done\n",
      "book 2 done\n",
      "book 3 done\n",
      "book 4 done\n",
      "book 5 done\n"
     ]
    }
   ],
   "source": [
    "characters = {} #––––––––––––––––––––––––––––––––\n",
    "for i in range (1,6):\n",
    "    characters.update(process_book('books/GOT','.txt',i))\n",
    "    print('book',i,'done')"
   ]
  },
  {
   "cell_type": "code",
   "execution_count": 7,
   "metadata": {},
   "outputs": [],
   "source": [
    "import pickle\n",
    "with open ('GOT-characters-raw.pickle','wb+') as blavlaz:\n",
    "    pickle.dump(characters, blavlaz)"
   ]
  },
  {
   "cell_type": "code",
   "execution_count": 23,
   "metadata": {},
   "outputs": [
    {
     "name": "stdout",
     "output_type": "stream",
     "text": [
      "book 1 done\n",
      "book 2 done\n",
      "book 3 done\n",
      "book 4 done\n",
      "book 5 done\n"
     ]
    }
   ],
   "source": [
    "paragraphs = []\n",
    "sentences = []\n",
    "for i in range (1,6):\n",
    "    p, s = process_book_for_stats('books/GOT','.txt',i)\n",
    "    paragraphs+= p\n",
    "    sentences += s\n",
    "    print('book',i,'done')"
   ]
  },
  {
   "cell_type": "code",
   "execution_count": 25,
   "metadata": {},
   "outputs": [
    {
     "name": "stdout",
     "output_type": "stream",
     "text": [
      "235.97917504019293\n",
      "60.226964439857994\n"
     ]
    }
   ],
   "source": [
    "import numpy as np\n",
    "print(np.average(paragraphs)+np.)\n",
    "print(np.average(sentences))"
   ]
  }
 ],
 "metadata": {
  "kernelspec": {
   "display_name": "Python 3",
   "language": "python",
   "name": "python3"
  },
  "language_info": {
   "codemirror_mode": {
    "name": "ipython",
    "version": 3
   },
   "file_extension": ".py",
   "mimetype": "text/x-python",
   "name": "python",
   "nbconvert_exporter": "python",
   "pygments_lexer": "ipython3",
   "version": "3.7.3"
  }
 },
 "nbformat": 4,
 "nbformat_minor": 2
}

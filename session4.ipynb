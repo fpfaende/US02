{
 "cells": [
  {
   "cell_type": "markdown",
   "metadata": {},
   "source": [
    "## import useful libraries"
   ]
  },
  {
   "cell_type": "code",
   "execution_count": 11,
   "metadata": {},
   "outputs": [],
   "source": [
    "from bs4 import BeautifulSoup"
   ]
  },
  {
   "cell_type": "markdown",
   "metadata": {},
   "source": [
    "## read html and parse cells line by line"
   ]
  },
  {
   "cell_type": "code",
   "execution_count": 47,
   "metadata": {},
   "outputs": [],
   "source": [
    "with open('my-iso-code.txt','r') as fp:\n",
    "    html = fp.read()\n",
    "    soup = BeautifulSoup(html,'html5lib')\n",
    "trs = soup.find_all('tr')\n",
    "len(trs)\n",
    "\n",
    "countries = []\n",
    "for tr in trs:\n",
    "    values = [td.string for td in tr.find_all('td')]\n",
    "    countries.append((str(values[0]), str(values[3])))\n",
    "countries = countries[1:-1]"
   ]
  },
  {
   "cell_type": "code",
   "execution_count": 49,
   "metadata": {},
   "outputs": [],
   "source": [
    "import pickle\n",
    "with open('all_countries.pickle','wb+') as fp:\n",
    "     pickle.dump(countries, fp)"
   ]
  },
  {
   "cell_type": "markdown",
   "metadata": {},
   "source": [
    "## request worldbank!"
   ]
  },
  {
   "cell_type": "code",
   "execution_count": 51,
   "metadata": {},
   "outputs": [],
   "source": [
    "indicator_list={\n",
    "'IMF WB Customs & imports':'GC.TAX.IMPT.ZS',\n",
    "'WB IMF Non-performing loans to total gross loans ratio':'FB.AST.NPER.ZS',\n",
    "'UIC Rail freight':'IS.RRS.GOOD.MT.K6',\n",
    "'WB Household final consumption expenditure':'NE.CON.PRVT.PP.CD',\n",
    "'WB UNESCO R&D Expenditure':'GB.XPD.RSDV.GD.ZS',\n",
    "'WB UNESCO Researchers p. mn inhabitants':'SP.POP.SCIE.RD.P6',\n",
    "'IFDI Net Inflows':'BX.KLT.DINV.WD.GD.ZS',\n",
    "'WHO Current Health Expenditure':'SH.XPD.CHEX.PP.CD',\n",
    "'WB Research Expenditure':'GB.XPD.RSDV.GD.ZS',\n",
    "'WIPO Trademark applications':'IP.TMK.RSCT',\n",
    "'WIPO Patent Applications':'IP.PAT.RESD'\n",
    "}\n",
    "\n",
    "\n",
    "def get_worldbank_indicator(country_code, indicator_code):\n",
    "    url = 'http://api.worldbank.org/v2/country/'\n",
    "    url += country_code\n",
    "    url += '/indicator/'\n",
    "    url += indicator_code\n",
    "    url += '?format=json'\n",
    "    r = requests.get(url)\n",
    "    data = r.json()\n",
    "    try:\n",
    "        for item in data[1]:\n",
    "            if item['value'] is None:\n",
    "                continue\n",
    "            else:\n",
    "                return(item['value'])\n",
    "    except IndexError:\n",
    "        return None"
   ]
  },
  {
   "cell_type": "code",
   "execution_count": 55,
   "metadata": {},
   "outputs": [
    {
     "name": "stdout",
     "output_type": "stream",
     "text": [
      "Afghanistan AFG\n",
      "Åland Islands ALA\n",
      "Albania ALB\n",
      "Algeria DZA\n",
      "American Samoa ASM\n",
      "Andorra AND\n",
      "Angola AGO\n",
      "Anguilla AIA\n"
     ]
    },
    {
     "ename": "TypeError",
     "evalue": "'NoneType' object is not iterable",
     "output_type": "error",
     "traceback": [
      "\u001b[0;31m---------------------------------------------------------------------------\u001b[0m",
      "\u001b[0;31mTypeError\u001b[0m                                 Traceback (most recent call last)",
      "\u001b[0;32m<ipython-input-55-9422a2103989>\u001b[0m in \u001b[0;36m<module>\u001b[0;34m\u001b[0m\n\u001b[1;32m      8\u001b[0m     \u001b[0mprint\u001b[0m\u001b[0;34m(\u001b[0m\u001b[0mname\u001b[0m\u001b[0;34m,\u001b[0m\u001b[0mcode\u001b[0m\u001b[0;34m)\u001b[0m\u001b[0;34m\u001b[0m\u001b[0;34m\u001b[0m\u001b[0m\n\u001b[1;32m      9\u001b[0m     \u001b[0;32mfor\u001b[0m \u001b[0mindicator_name\u001b[0m\u001b[0;34m,\u001b[0m\u001b[0mindicator_code\u001b[0m \u001b[0;32min\u001b[0m \u001b[0mindicator_list\u001b[0m\u001b[0;34m.\u001b[0m\u001b[0mitems\u001b[0m\u001b[0;34m(\u001b[0m\u001b[0;34m)\u001b[0m\u001b[0;34m:\u001b[0m\u001b[0;34m\u001b[0m\u001b[0;34m\u001b[0m\u001b[0m\n\u001b[0;32m---> 10\u001b[0;31m         \u001b[0mindicator\u001b[0m \u001b[0;34m=\u001b[0m \u001b[0mget_worldbank_indicator\u001b[0m\u001b[0;34m(\u001b[0m\u001b[0mcode\u001b[0m\u001b[0;34m,\u001b[0m\u001b[0mindicator_code\u001b[0m\u001b[0;34m)\u001b[0m\u001b[0;34m\u001b[0m\u001b[0;34m\u001b[0m\u001b[0m\n\u001b[0m\u001b[1;32m     11\u001b[0m         \u001b[0mresult\u001b[0m\u001b[0;34m.\u001b[0m\u001b[0mappend\u001b[0m\u001b[0;34m(\u001b[0m\u001b[0mindicator\u001b[0m\u001b[0;34m)\u001b[0m\u001b[0;34m\u001b[0m\u001b[0;34m\u001b[0m\u001b[0m\n\u001b[1;32m     12\u001b[0m         \u001b[0mtime\u001b[0m\u001b[0;34m.\u001b[0m\u001b[0msleep\u001b[0m\u001b[0;34m(\u001b[0m\u001b[0mrandom\u001b[0m\u001b[0;34m.\u001b[0m\u001b[0mrandom\u001b[0m\u001b[0;34m(\u001b[0m\u001b[0;34m)\u001b[0m\u001b[0;34m)\u001b[0m\u001b[0;34m\u001b[0m\u001b[0;34m\u001b[0m\u001b[0m\n",
      "\u001b[0;32m<ipython-input-51-1cfeabfab5b2>\u001b[0m in \u001b[0;36mget_worldbank_indicator\u001b[0;34m(country_code, indicator_code)\u001b[0m\n\u001b[1;32m     23\u001b[0m     \u001b[0mdata\u001b[0m \u001b[0;34m=\u001b[0m \u001b[0mr\u001b[0m\u001b[0;34m.\u001b[0m\u001b[0mjson\u001b[0m\u001b[0;34m(\u001b[0m\u001b[0;34m)\u001b[0m\u001b[0;34m\u001b[0m\u001b[0;34m\u001b[0m\u001b[0m\n\u001b[1;32m     24\u001b[0m     \u001b[0;32mtry\u001b[0m\u001b[0;34m:\u001b[0m\u001b[0;34m\u001b[0m\u001b[0;34m\u001b[0m\u001b[0m\n\u001b[0;32m---> 25\u001b[0;31m         \u001b[0;32mfor\u001b[0m \u001b[0mitem\u001b[0m \u001b[0;32min\u001b[0m \u001b[0mdata\u001b[0m\u001b[0;34m[\u001b[0m\u001b[0;36m1\u001b[0m\u001b[0;34m]\u001b[0m\u001b[0;34m:\u001b[0m\u001b[0;34m\u001b[0m\u001b[0;34m\u001b[0m\u001b[0m\n\u001b[0m\u001b[1;32m     26\u001b[0m             \u001b[0;32mif\u001b[0m \u001b[0mitem\u001b[0m\u001b[0;34m[\u001b[0m\u001b[0;34m'value'\u001b[0m\u001b[0;34m]\u001b[0m \u001b[0;32mis\u001b[0m \u001b[0;32mNone\u001b[0m\u001b[0;34m:\u001b[0m\u001b[0;34m\u001b[0m\u001b[0;34m\u001b[0m\u001b[0m\n\u001b[1;32m     27\u001b[0m                 \u001b[0;32mcontinue\u001b[0m\u001b[0;34m\u001b[0m\u001b[0;34m\u001b[0m\u001b[0m\n",
      "\u001b[0;31mTypeError\u001b[0m: 'NoneType' object is not iterable"
     ]
    }
   ],
   "source": [
    "results=[]\n",
    "header = ['name','code']\n",
    "header += list(indicator_list.keys())\n",
    "results.append(header)\n",
    "\n",
    "for name, code in countries:\n",
    "    result = [name,code]\n",
    "    print(name,code)\n",
    "    for indicator_name,indicator_code in indicator_list.items():\n",
    "        indicator = get_worldbank_indicator(code,indicator_code)\n",
    "        result.append(indicator)\n",
    "        time.sleep(random.random())\n",
    "    results.append(result)"
   ]
  },
  {
   "cell_type": "code",
   "execution_count": 53,
   "metadata": {},
   "outputs": [
    {
     "data": {
      "text/plain": [
       "[['name',\n",
       "  'code',\n",
       "  'IMF WB Customs & imports',\n",
       "  'WB IMF Non-performing loans to total gross loans ratio',\n",
       "  'UIC Rail freight',\n",
       "  'WB Household final consumption expenditure',\n",
       "  'WB UNESCO R&D Expenditure',\n",
       "  'WB UNESCO Researchers p. mn inhabitants',\n",
       "  'IFDI Net Inflows',\n",
       "  'WHO Current Health Expenditure',\n",
       "  'WB Research Expenditure',\n",
       "  'WIPO Trademark applications',\n",
       "  'WIPO Patent Applications'],\n",
       " ['Afghanistan',\n",
       "  'AFG',\n",
       "  32.5510718990235,\n",
       "  12.2018301907814,\n",
       "  None,\n",
       "  52717683826.5484,\n",
       "  None,\n",
       "  None,\n",
       "  0.273178792042567,\n",
       "  183.92785762,\n",
       "  None,\n",
       "  None,\n",
       "  None],\n",
       " ['Åland Islands',\n",
       "  'ALA',\n",
       "  None,\n",
       "  None,\n",
       "  None,\n",
       "  None,\n",
       "  None,\n",
       "  None,\n",
       "  None,\n",
       "  None,\n",
       "  None,\n",
       "  None,\n",
       "  None]]"
      ]
     },
     "execution_count": 53,
     "metadata": {},
     "output_type": "execute_result"
    }
   ],
   "source": [
    "results"
   ]
  }
 ],
 "metadata": {
  "kernelspec": {
   "display_name": "Python 3",
   "language": "python",
   "name": "python3"
  },
  "language_info": {
   "codemirror_mode": {
    "name": "ipython",
    "version": 3
   },
   "file_extension": ".py",
   "mimetype": "text/x-python",
   "name": "python",
   "nbconvert_exporter": "python",
   "pygments_lexer": "ipython3",
   "version": "3.7.3"
  }
 },
 "nbformat": 4,
 "nbformat_minor": 2
}

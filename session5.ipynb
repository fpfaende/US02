{
 "cells": [
  {
   "cell_type": "code",
   "execution_count": 1,
   "metadata": {},
   "outputs": [],
   "source": [
    "import pickle\n",
    "import networkx as nx\n",
    "import numpy as np"
   ]
  },
  {
   "cell_type": "code",
   "execution_count": 2,
   "metadata": {},
   "outputs": [
    {
     "data": {
      "text/plain": [
       "340"
      ]
     },
     "execution_count": 2,
     "metadata": {},
     "output_type": "execute_result"
    }
   ],
   "source": [
    "with open('GOT-characters-raw.pickle','rb') as fp:\n",
    "    characters = pickle.load(fp)\n",
    "len(characters.keys())"
   ]
  },
  {
   "cell_type": "code",
   "execution_count": 3,
   "metadata": {},
   "outputs": [
    {
     "name": "stdout",
     "output_type": "stream",
     "text": [
      "analysis contains 5522 individual entities\n"
     ]
    }
   ],
   "source": [
    "entities = set()\n",
    "for chapter in characters.values():\n",
    "    for entity in chapter:\n",
    "        name = entity[0]\n",
    "        entities.add(name)\n",
    "print('analysis contains',len(entities),'individual entities')"
   ]
  },
  {
   "cell_type": "code",
   "execution_count": 6,
   "metadata": {},
   "outputs": [
    {
     "data": {
      "text/plain": [
       "dict_keys(['1–0-Prologue', '1–1-Bran', '1–2-Catelyn', '1–3-Daenerys', '1–4-Eddard', '1–5-Jon', '1–6-Catelyn', '1–7-Arya', '1–8-Bran', '1–9-Tyrion', '1–10-Jon', '1–11-Daenerys', '1–12-Eddard', '1–13-Tyrion', '1–14-Catelyn', '1–15-Sansa', '1–16-Eddard', '1–17-Bran', '1–18-Catelyn', '1–19-Jon', '1–20-Eddard', '1–21-Tyrion', '1–22-Arya', '1–23-Daenerys', '1–24-Bran', '1–25-Eddard', '1–26-Jon', '1–27-Eddard', '1–28-Catelyn', '1–29-Sansa', '1–30-Eddard', '1–31-Tyrion', '1–32-Arya', '1–33-Eddard', '1–34-Catelyn', '1–35-Eddard', '1–36-Daenerys', '1–37-Bran', '1–38-Tyrion', '1–39-Eddard', '1–40-Catelyn', '1–41-Jon', '1–42-Tyrion', '1–43-Eddard', '1–44-Sansa', '1–45-Eddard', '1–46-Daenerys', '1–47-Eddard', '1–48-Jon', '1–49-Eddard', '1–50-Arya', '1–51-Sansa', '1–52-Jon', '1–53-Bran', '1–54-Daenerys', '1–55-Catelyn', '1–56-Tyrion', '1–57-Sansa', '1–58-Eddard', '1–59-Catelyn', '1–60-Jon', '1–61-Daenerys', '1–62-Tyrion', '1–63-Catelyn', '1–64-Daenerys', '1–65-Arya', '1–66-Bran', '1–67-Sansa', '1–68-Daenerys', '1–69-Tyrion', '1–70-Jon', '1–71-Catelyn', '1–72-Daenerys', '2–0-Prologue', '2–1-Arya', '2–2-Sansa', '2–3-Tyrion', '2–4-Bran', '2–5-Arya', '2–6-Jon', '2–7-Catelyn', '2–8-Tyrion', '2–9-Arya', '2–10-Davos', '2–11-Theon', '2–12-Daenerys', '2–13-Jon', '2–14-Arya', '2–15-Tyrion', '2–16-Bran', '2–17-Tyrion', '2–18-Sansa', '2–19-Arya', '2–20-Tyrion', '2–21-Bran', '2–22-Catelyn', '2–23-Jon', '2–24-Theon', '2–25-Tyrion', '2–26-Arya', '2–27-Daenerys', '2–28-Bran', '2–29-Tyrion', '2–30-Arya', '2–31-Catelyn', '2–32-Sansa', '2–33-Catelyn', '2–34-Jon', '2–35-Bran', '2–36-Tyrion', '2–37-Theon', '2–38-Arya', '2–39-Catelyn', '2–40-Daenerys', '2–41-Tyrion', '2–42-Davos', '2–43-Jon', '2–44-Tyrion', '2–45-Catelyn', '2–46-Bran', '2–47-Arya', '2–48-Daenerys', '2–49-Tyrion', '2–50-Theon', '2–51-Jon', '2–52-Sansa', '2–53-Jon', '2–54-Tyrion', '2–55-Catelyn', '2–56-Theon', '2–57-Sansa', '2–58-Davos', '2–59-Tyrion', '2–60-Sansa', '2–61-Tyrion', '2–62-Sansa', '2–63-Daenerys', '2–64-Arya', '2–65-Sansa', '2–66-Theon', '2–67-Tyrion', '2–68-Jon', '2–69-Bran', '3–0-Prologue', '3–1-Jaime', '3–2-Catelyn', '3–3-Arya', '3–4-Tyrion', '3–5-Davos', '3–6-Sansa', '3–7-Jon', '3–8-Daenerys', '3–9-Bran', '3–10-Davos', '3–11-Jaime', '3–12-Tyrion', '3–13-Arya', '3–14-Catelyn', '3–15-Jon', '3–16-Sansa', '3–17-Arya', '3–18-Samwell', '3–19-Tyrion', '3–20-Catelyn', '3–21-Jaime', '3–22-Arya', '3–23-Daenerys', '3–24-Bran', '3–25-Davos', '3–26-Jon', '3–27-Daenerys', '3–28-Sansa', '3–29-Arya', '3–30-Jon', '3–31-Jaime', '3–32-Tyrion', '3–33-Samwell', '3–34-Arya', '3–35-Catelyn', '3–36-Davos', '3–37-Jaime', '3–38-Tyrion', '3–39-Arya', '3–40-Bran', '3–41-Jon', '3–42-Daenerys', '3–43-Arya', '3–44-Jaime', '3–45-Catelyn', '3–46-Samwell', '3–47-Arya', '3–48-Jon', '3–49-Catelyn', '3–50-Arya', '3–51-Catelyn', '3–52-Arya', '3–53-Tyrion', '3–54-Davos', '3–55-Jon', '3–56-Bran', '3–57-Daenerys', '3–58-Tyrion', '3–59-Sansa', '3–60-Tyrion', '3–61-Sansa', '3–62-Jaime', '3–63-Davos', '3–64-Jon', '3–65-Arya', '3–66-Tyrion', '3–67-Jaime', '3–68-Sansa', '3–69-Jon', '3–70-Tyrion', '3–71-Daenerys', '3–72-Jaime', '3–73-Jon', '3–74-Arya', '3–75-Samwell', '3–76-Jon', '3–77-Tyrion', '3–78-Samwell', '3–79-Jon', '3–80-Sansa', '3–81-Epilogue', '4–0-Prologue', '4–1-The Prophet', '4–2-The Captain Of Guards', '4–3-Cersei', '4–4-Brienne', '4–5-Samwell', '4–6-Arya', '4–7-Cersei', '4–8-Jaime', '4–9-Brienne', '4–10-Sansa', '4–11-Cersei', '4–12-The Soiled Knight', '4–13-Brienne', '4–14-Samwell', '4–15-Jaime', '4–16-Cersei', '4–17-The Iron Captain', '4–18-The Drowned Man', '4–19-Brienne', '4–20-The Queenmaker', '4–21-Arya', '4–22-Alayne', '4–23-Cersei', '4–24-Brienne', '4–25-Samwell', '4–26-Jaime', '4–27-Cersei', '4–28-The Reaver', '4–29-Jaime', '4–30-Brienne', '4–31-Cersei', '4–32-Jaime', '4–33-Cat Of The Canals', '4–34-Samwell', '4–35-Cersei', '4–36-Brienne', '4–37-Jaime', '4–38-Cersei', '4–39-The Princess In The Tower', '4–40-Alayne', '4–41-Brienne', '4–42-Cersei', '4–43-Jaime', '4–44-Samwell', '5–0-Prologue', '5–1-Tyrion', '5–2-Daenerys', '5–3-Jon', '5–4-Bran', '5–5-Tyrion', '5–7-Jon', '5–8-Tyrion', '5–9-Davos', '5–10-Jon', '5–11-Daenerys', '5–12-Reek', '5–13-Bran', '5–14-Tyrion', '5–15-Davos', '5–16-Daenerys', '5–17-Jon', '5–18-Tyrion', '5–19-Davos', '5–20-Reek', '5–21-Jon', '5–22-Tyrion', '5–23-Daenerys', '5–24-The Lost Lord', '5–25-The Windblown', '5–26-The Wayward Bride', '5–27-Tyrion', '5–28-Jon', '5–29-Davos', '5–30-Daenerys', '5–31-Melisandre', '5–32-Reek', '5–33-Tyrion', '5–34-Bran', '5–35-Jon', '5–36-Daenerys', '5–37-The Prince Of Winterfell', '5–38-The Watcher', '5–39-Jon', '5–40-Tyrion', '5–41-The Turncloak', '5–43-Daenerys', '5–44-Jon', '5–45-The Blind Girl', '5–46-A Ghost In Winterfell', '5–47-Tyrion', '5–48-Jaime', '5–49-Jon', '5–50-Daenerys', '5–51-Theon', '5–52-Daenerys', '5–53-Jon', '5–54-Cersei', '5–55-The Queensguard', '5–56-The Iron Suitor', '5–57-Tyrion', '5–58-Jon', '5–59-The Discarded Knight', '5–60-The Spurned Suitor', '5–61-The Griffin Reborn', '5–62-The Sacrifice', '5–63-Victarion', '5–64-The Ugly Little Girl', '5–65-Cersei', '5–66-Tyrion', '5–67-The Kingbreaker', '5–68-The Dragontamer', '5–69-Jon', '5–72-Daenerys', '5–73-Epilogue'])"
      ]
     },
     "execution_count": 6,
     "metadata": {},
     "output_type": "execute_result"
    }
   ],
   "source": [
    "characters.keys()"
   ]
  },
  {
   "cell_type": "code",
   "execution_count": 79,
   "metadata": {},
   "outputs": [],
   "source": [
    "def get_edges_from_chapter(chapter):\n",
    "    chapter.sort(key=lambda a:a[1],reverse=False)\n",
    "\n",
    "    potential_edges = []\n",
    "    for i in range(0,len(chapter)):\n",
    "        name1,start1,end1 = chapter[i]\n",
    "        for j in range(i+1,len(chapter)):    \n",
    "            name2,start2,end2 = chapter[j]\n",
    "            if name2 != name1:\n",
    "                potential_edges.append((name1,name2,{'dist':start2-end1}))\n",
    "\n",
    "    edges = {}\n",
    "    for name1,name2,value in potential_edges:\n",
    "        if (name1,name2) not in edges.keys():\n",
    "            if (name2,name1) not in edges.keys():\n",
    "                edges[(name1,name2)] = {'values':[value['dist']]}\n",
    "            else:\n",
    "                edges[(name2,name1)]['values'].append(value['dist'])\n",
    "        else:\n",
    "            edges[(name1,name2)]['values'].append(value['dist'])\n",
    "\n",
    "    for k,v in edges.items():\n",
    "        #edges[k]['weight']=np.percentile(v['values'],10)\n",
    "        # the 448 value is the mean + standard deviation of the length of a paragraph in game of thrones books \n",
    "        edges[k]['weight']=len([a for a in v['values'] if a <448])\n",
    "    \n",
    "    ready_for_nx = []\n",
    "    for k,v in edges.items():\n",
    "        name1 = k[0]\n",
    "        name2 = k[1]\n",
    "        weight = v['weight']\n",
    "        if weight > 0:\n",
    "            ready_for_nx.append((name1,name2,{'weight':weight}))\n",
    "    return ready_for_nx"
   ]
  },
  {
   "cell_type": "code",
   "execution_count": 82,
   "metadata": {},
   "outputs": [],
   "source": [
    "GOT = nx.Graph()"
   ]
  },
  {
   "cell_type": "code",
   "execution_count": 83,
   "metadata": {},
   "outputs": [],
   "source": [
    "for chapter in characters.values():\n",
    "    GOT.add_edges_from(get_edges_from_chapter(chapter))"
   ]
  },
  {
   "cell_type": "code",
   "execution_count": 84,
   "metadata": {},
   "outputs": [
    {
     "name": "stdout",
     "output_type": "stream",
     "text": [
      "Name: \n",
      "Type: Graph\n",
      "Number of nodes: 5515\n",
      "Number of edges: 88598\n",
      "Average degree:  32.1298\n"
     ]
    }
   ],
   "source": [
    "print(nx.info(GOT))"
   ]
  },
  {
   "cell_type": "code",
   "execution_count": 85,
   "metadata": {},
   "outputs": [],
   "source": [
    "nx.write_gexf(GOT,'GOT-version-1.gexf')"
   ]
  },
  {
   "cell_type": "code",
   "execution_count": null,
   "metadata": {},
   "outputs": [],
   "source": []
  }
 ],
 "metadata": {
  "kernelspec": {
   "display_name": "Python 3",
   "language": "python",
   "name": "python3"
  },
  "language_info": {
   "codemirror_mode": {
    "name": "ipython",
    "version": 3
   },
   "file_extension": ".py",
   "mimetype": "text/x-python",
   "name": "python",
   "nbconvert_exporter": "python",
   "pygments_lexer": "ipython3",
   "version": "3.7.3"
  }
 },
 "nbformat": 4,
 "nbformat_minor": 2
}
